{
 "cells": [
  {
   "cell_type": "code",
   "execution_count": null,
   "id": "f56b805c-9cc3-43e6-aaea-ccd3aea130f8",
   "metadata": {},
   "outputs": [],
   "source": []
  }
 ],
 "metadata": {
  "kernelspec": {
   "display_name": "",
   "name": ""
  },
  "language_info": {
   "name": ""
  }
 },
 "nbformat": 4,
 "nbformat_minor": 5
}
